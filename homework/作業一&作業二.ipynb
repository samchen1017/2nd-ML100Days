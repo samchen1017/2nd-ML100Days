{
 "cells": [
  {
   "cell_type": "markdown",
   "metadata": {},
   "source": [
    "作業1：\n",
    "請上 Kaggle, 在 Competitions 或 Dataset 中找一組競賽或資料並寫下：\n",
    "1. 你選的這組資料為何重要\n",
    "2. 資料從何而來 (tips: 譬如提供者是誰、以什麼方式蒐集)\n",
    "3. 蒐集而來的資料型態為何\n",
    "4. 這組資料想解決的問題如何評估\n",
    "\n",
    "答案：\n",
    "1.\n",
    "YouTube（世界著名的視頻分享網站）維護著平台上熱門視頻的列表。根據Variety雜誌的報導，“為了確定年度最熱門的視頻，YouTube使用了多種因素。利用不同因素來推斷分析出熱門影片具備的特徵，或是分類youtube成不同類型的影片。\n",
    "2.\n",
    "Mitchell J   https://www.kaggle.com/datasnaek/youtube-new\n",
    "3.\n",
    "資料型態為json格式以name以及value所組成的，是結構化資料。\n",
    "4.\n",
    "為了推斷出熱門影片的特徵，從留言的情緒推斷，觀看次數，按喜歡的比例，評估某影片具不具備熱門影片的特徵，或是分類到某類型的影片。把蒐集來的數據與不同因素來回歸與分析找出問題與變因的關係。\n",
    "\n",
    "\n",
    "作業2：\n",
    "想像你經營一個自由載客車隊，你希望能透過數據分析以提升業績，請你思考並描述你如何規劃整體的分析/解決方案：\n",
    "1. 核心問題為何 (tips：如何定義 「提升業績 & 你的假設」)\n",
    "2. 資料從何而來 (tips：哪些資料可能會對你想問的問題產生影響 & 資料如何蒐集)\n",
    "3. 蒐集而來的資料型態為何\n",
    "4. 你要回答的問題，其如何評估 (tips：你的假設如何驗證)\n",
    "\n",
    "答案：\n",
    "1.\n",
    "如何提升業績有不同的方式。假設數個不同的變因來推斷提升業績的方式。\n",
    "2.\n",
    "變因可分成時空情境（星期、時段和區域等）和外部事件（天氣、節慶、活動等）。透過車輛實際載客情況分析乘客熱點。\n",
    "3.\n",
    "資料型態為結構化資料。不同地區，時間所對應的載客量\n",
    "4.\n",
    "此問題為迴歸問題。透過改變不同變因來驗證業績的提升。\n",
    "\n",
    "\n",
    "\n"
   ]
  }
 ],
 "metadata": {
  "kernelspec": {
   "display_name": "Python 3",
   "language": "python",
   "name": "python3"
  },
  "language_info": {
   "codemirror_mode": {
    "name": "ipython",
    "version": 3
   },
   "file_extension": ".py",
   "mimetype": "text/x-python",
   "name": "python",
   "nbconvert_exporter": "python",
   "pygments_lexer": "ipython3",
   "version": "3.7.1"
  }
 },
 "nbformat": 4,
 "nbformat_minor": 2
}
